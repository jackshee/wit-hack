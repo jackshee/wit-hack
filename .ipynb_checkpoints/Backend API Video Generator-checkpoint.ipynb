{
 "cells": [
  {
   "cell_type": "code",
   "execution_count": 3,
   "id": "5858e7b5",
   "metadata": {
    "scrolled": true
   },
   "outputs": [
    {
     "name": "stdout",
     "output_type": "stream",
     "text": [
      "{'ErrCode': 0, 'ErrMsg': 'success', 'Resp': {'video_id': 357142696914647}}\n"
     ]
    }
   ],
   "source": [
    "import requests\n",
    "import uuid\n",
    "headers = {\n",
    "        \"API-KEY\": \"sk-9cd03c60e0de6b9fad992f905b5e8cbc\",\n",
    "        \"Ai-trace-id\": str(uuid.uuid4()),   # generate unique ID for each request\n",
    "        \"Content-Type\": \"application/json\"\n",
    "    }\n",
    "\n",
    "def generate_video(prompt, duration=5, aspect_ratio=\"16:9\", model=\"v5\",\n",
    "                   quality=\"360p\", seed=0, negative_prompt=\"string\", watermark=False):\n",
    "    \"\"\"\n",
    "    Call PixVerse API to generate a video from text.\n",
    "    \n",
    "    :param prompt: Text prompt for video generation\n",
    "    :param duration: Duration of the video in seconds\n",
    "    :param aspect_ratio: Aspect ratio (e.g., \"16:9\")\n",
    "    :param model: Model version (e.g., \"v5\")\n",
    "    :param quality: Video resolution (e.g., \"540p\")\n",
    "    :param seed: Random seed (0 for random)\n",
    "    :param negative_prompt: Negative prompt to avoid unwanted details\n",
    "    :param watermark: Whether to add watermark (boolean)\n",
    "    :return: Response JSON from API\n",
    "    \"\"\"\n",
    "\n",
    "    base_url = \"https://app-api.pixverse.ai/openapi/v2/video/text/generate\"\n",
    "    \n",
    "    \n",
    "    payload = {\n",
    "        \"aspect_ratio\": aspect_ratio,\n",
    "        \"duration\": duration,\n",
    "        \"model\": model,\n",
    "        # \"motion_mode\": \"normal\",   # optional\n",
    "        \"negative_prompt\": negative_prompt,\n",
    "        # \"camera_movement\": \"zoom_in\",   # optional\n",
    "        \"prompt\": prompt,\n",
    "        \"quality\": quality,\n",
    "        \"seed\": seed,\n",
    "        # \"template_id\": 302325299692608,   # optional\n",
    "        \"water_mark\": watermark\n",
    "    }\n",
    "    \n",
    "    response = requests.post(base_url, headers=headers, json=payload)\n",
    "    \n",
    "    try:\n",
    "        response.raise_for_status()\n",
    "        return response.json()\n",
    "    except requests.exceptions.HTTPError as e:\n",
    "        print(f\"HTTP error: {e}\")\n",
    "        print(\"Response content:\", response.text)\n",
    "        return None\n",
    "\n",
    "def check_status(video_id):\n",
    "    VIDEO_URL = f\"https://app-api.pixverse.ai/openapi/v2/video/result/{video_id}\"\n",
    "    resp = requests.get(VIDEO_URL, headers=headers)\n",
    "    resp.raise_for_status()\n",
    "    data = resp.json()\n",
    "    if data.get(\"ErrCode\") == 0:\n",
    "        return data[\"Resp\"][\"status\"], data[\"Resp\"].get(\"url\")\n",
    "    else:\n",
    "        raise RuntimeError(f\"Error checking status: {data.get('ErrMsg')}\")\n",
    "\n",
    "# Example usage:\n",
    "if __name__ == \"__main__\": \n",
    "    result = generate_video(prompt=\"An avatar doing hand signing asking 'how are you' in Auslan\")\n",
    "    video_id = result['Resp']['video_id']\n",
    "    \n",
    "    while True:\n",
    "    status, url = check_status(video_id)\n",
    "    print(f\"Status:{status}\")\n",
    "    if status == 1:\n",
    "        print(f\"Completed! Video URL:{url}\")\n",
    "        break\n",
    "    time.sleep(5)\n"
   ]
  },
  {
   "cell_type": "code",
   "execution_count": 7,
   "id": "679b9e18",
   "metadata": {},
   "outputs": [
    {
     "name": "stdout",
     "output_type": "stream",
     "text": [
      "https://app-api.pixverse.ai/openapi/v2/video/result/357142696914647\n"
     ]
    }
   ],
   "source": [
    "VIDEO_URL = f\"https://app-api.pixverse.ai/openapi/v2/video/result/{video_id}\"\n",
    "print(VIDEO_URLH"
   ]
  },
  {
   "cell_type": "code",
   "execution_count": null,
   "id": "f9648586",
   "metadata": {},
   "outputs": [],
   "source": []
  },
  {
   "cell_type": "code",
   "execution_count": 10,
   "id": "7ae04acd",
   "metadata": {},
   "outputs": [],
   "source": []
  },
  {
   "cell_type": "code",
   "execution_count": 11,
   "id": "56280cf9",
   "metadata": {},
   "outputs": [
    {
     "name": "stdout",
     "output_type": "stream",
     "text": [
      "Status:1\n",
      "Completed! Video URL:https://media.pixverse.ai/pixverse%2Fmp4%2Fmedia%2Fweb%2Fori%2F1eddc18c-93c8-41ec-b1be-f07dc1b38251_seed1683585196.mp4\n"
     ]
    },
    {
     "data": {
      "text/plain": [
       "'def main():\\n\\n    while True:\\n        status, url = check_status(video_id)\\n        print(f\"Status: {status} (1 = complete)\")\\n        if status == 1:\\n            print(f\"Completed! Video URL: {url}\")\\n            break\\n        time.sleep(5)  # Poll every 5 seconds\\n\\nif __name__ == \"__main__\":\\n    main()\\n    \\n    '"
      ]
     },
     "execution_count": 11,
     "metadata": {},
     "output_type": "execute_result"
    }
   ],
   "source": [
    "def check_status(video_id):\n",
    "    VIDEO_URL = f\"https://app-api.pixverse.ai/openapi/v2/video/result/{video_id}\"\n",
    "    resp = requests.get(VIDEO_URL, headers=headers)\n",
    "    resp.raise_for_status()\n",
    "    data = resp.json()\n",
    "    if data.get(\"ErrCode\") == 0:\n",
    "        return data[\"Resp\"][\"status\"], data[\"Resp\"].get(\"url\")\n",
    "    else:\n",
    "        raise RuntimeError(f\"Error checking status: {data.get('ErrMsg')}\")\n",
    "\n",
    "\n",
    "while True:\n",
    "    status, url = check_status(video_id)\n",
    "    print(f\"Status:{status}\")\n",
    "    if status == 1:\n",
    "        print(f\"Completed! Video URL:{url}\")\n",
    "        break\n",
    "    time.sleep(5)\n"
   ]
  },
  {
   "cell_type": "code",
   "execution_count": null,
   "id": "badd9135",
   "metadata": {},
   "outputs": [],
   "source": []
  }
 ],
 "metadata": {
  "kernelspec": {
   "display_name": "Python 3 (ipykernel)",
   "language": "python",
   "name": "python3"
  },
  "language_info": {
   "codemirror_mode": {
    "name": "ipython",
    "version": 3
   },
   "file_extension": ".py",
   "mimetype": "text/x-python",
   "name": "python",
   "nbconvert_exporter": "python",
   "pygments_lexer": "ipython3",
   "version": "3.11.7"
  }
 },
 "nbformat": 4,
 "nbformat_minor": 5
}
